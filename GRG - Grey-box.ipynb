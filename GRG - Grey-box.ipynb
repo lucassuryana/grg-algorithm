{
 "cells": [
  {
   "cell_type": "markdown",
   "metadata": {
    "slideshow": {
     "slide_type": "slide"
    }
   },
   "source": [
    "***Algoritma GRG: Pendekatan model grey-box***\n",
    "<br>\n",
    "<br>\n",
    "Di dalam pelatihan ini kita akan mempelajari penerapan algoritma *Generalized Reduced Gradient* (GRG) untuk mendapatkan parameter dari suatu model nonlinear yang tidak diketahui. Pendekatan yang menggabungkan pengetahuan akan suatu model dengan suatu algoritma untuk mendapatkan suatu hasil yang utuh kita kenal sebagai model grey-box. "
   ]
  },
  {
   "cell_type": "markdown",
   "metadata": {
    "slideshow": {
     "slide_type": "subslide"
    }
   },
   "source": [
    "Setelah menyelesaikan pertemuan ini, Anda akan menguasai beberapa hal:\n",
    "* Kemampuan untuk membedakan antara model **white-box**, **black-box**, dan **grey-box**\n",
    "* Kemampuan untuk menentukan studi kasus yang dapat diselesaikan dengan menggunakan pendekatan grey-box dan algoritma GRG"
   ]
  },
  {
   "cell_type": "markdown",
   "metadata": {
    "slideshow": {
     "slide_type": "slide"
    }
   },
   "source": [
    "***Model white-box***\n",
    "<br>\n",
    "Model white-box adalah model ideal dari suatu sistem. Dengan menggunakan persamaan fisis kita dapat memodelkan suatu sistem dan melakukan simulasi secara langsung."
   ]
  },
  {
   "cell_type": "markdown",
   "metadata": {
    "slideshow": {
     "slide_type": "subslide"
    }
   },
   "source": [
    "Contoh model white-box:\n",
    "<img src=white-box.png style=\"width:880px;height:352px\"/>"
   ]
  },
  {
   "cell_type": "markdown",
   "metadata": {
    "slideshow": {
     "slide_type": "subslide"
    }
   },
   "source": [
    "Kapan kita menggunakan model white-box?\n",
    "* Saat kita tidak mempunyai data sama sekali\n",
    "* Tetapi, kita mengetahui \"isi\" dari sistem yang kita tinjau\n",
    "\n",
    "Biasanya model white-box adalah model ideal yang tidak relevan di dalam dunia nyata. Karena di dalam sistem asli ada banyak faktor eksternal yang menyebabkan sistem tidak berlaku sebagaimana di dalam hitungan.\n"
   ]
  },
  {
   "cell_type": "markdown",
   "metadata": {
    "slideshow": {
     "slide_type": "slide"
    }
   },
   "source": [
    "***Model black-box***\n",
    "<br>\n",
    "Dengan berkembangnya era komputasi dan IoT, proses pengumpulan data menjadi semakin dipermudah. Namun bertambahnya data juga menjadi \"kutukan\" apabila kita tidak dapat mengolah data tersebut. \n",
    "\n",
    "Beberapa tahun ini penggunaan model black-box banyak dikembangkan karena kemudahannya, di mana kita tidak perlu mengetahui \"isi\" dari sistem yang mau kita modelkan."
   ]
  },
  {
   "cell_type": "markdown",
   "metadata": {
    "slideshow": {
     "slide_type": "subslide"
    }
   },
   "source": [
    "Kapan kita menggunakan model black-box?\n",
    "* Saat kita mempunyai pasangan data input-output dari suatu sistem\n",
    "* Tetapi, kita sama sekali tidak tahu \"isi\" dari sistem yang kita tinjau\n",
    "\n",
    "Salah satu konsep black-box yang paling mudah kita pahami ada di dalam konsep pembelajaran mesin, di mana terdapat konsep \"learning\"."
   ]
  },
  {
   "cell_type": "markdown",
   "metadata": {
    "slideshow": {
     "slide_type": "subslide"
    }
   },
   "source": [
    "Konsep pembelajaran mesin:\n",
    "<img src=machine-learning.png style=\"width:600px;height:352px\"/>"
   ]
  },
  {
   "cell_type": "markdown",
   "metadata": {
    "slideshow": {
     "slide_type": "subslide"
    }
   },
   "source": [
    "Contoh aplikasi model-black box lainnya yang sedang berkembang pada saat ini: **Neural Network**, **Reinforcement Learning**, **Fuzzy System**\n",
    "                            <img src=black-box.png style=\"width:500px;height:350px\"/>"
   ]
  },
  {
   "cell_type": "markdown",
   "metadata": {
    "slideshow": {
     "slide_type": "slide"
    }
   },
   "source": [
    "***Model grey-box***\n",
    "<br>\n",
    "Meskipun black-box sangat menjanjikan, namun pengetahuan akan sistem juga tetap diperlukan. Model grey-box merupakan gabungan dari model white-box dan black-box, di mana suatu sistem dimodelkan dengan menggunakan persamaan fisis namun nilai parameter yang tidak diketahui akan ditebak dengan pendekatan black-box."
   ]
  },
  {
   "cell_type": "markdown",
   "metadata": {
    "slideshow": {
     "slide_type": "subslide"
    }
   },
   "source": [
    "Kapan kita menggunakan model grey-box?\n",
    "* Saat kita mempunyai pasangan data input-output dari suatu sistem\n",
    "* Dan, kita mengetahui \"isi\" dari sistem yang kita tinjau\n",
    "\n",
    "Dengan menggunakan model grey-box maka kita dapat membangun suatu persamaan yang memberikan pengetahuan akan sistem secara intuitif (lewat persamaan fisis), dan menyelesaikan masalah ketidakidealan kondisi asli di lapangan."
   ]
  },
  {
   "cell_type": "code",
   "execution_count": null,
   "metadata": {},
   "outputs": [],
   "source": []
  }
 ],
 "metadata": {
  "celltoolbar": "Slideshow",
  "kernelspec": {
   "display_name": "Python 3",
   "language": "python",
   "name": "python3"
  },
  "language_info": {
   "codemirror_mode": {
    "name": "ipython",
    "version": 3
   },
   "file_extension": ".py",
   "mimetype": "text/x-python",
   "name": "python",
   "nbconvert_exporter": "python",
   "pygments_lexer": "ipython3",
   "version": "3.8.5"
  }
 },
 "nbformat": 4,
 "nbformat_minor": 4
}
